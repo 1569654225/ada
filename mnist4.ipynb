{
 "cells": [
  {
   "cell_type": "code",
   "execution_count": 1,
   "metadata": {},
   "outputs": [],
   "source": [
    "import tensorflow as tf\n",
    "import os"
   ]
  },
  {
   "cell_type": "code",
   "execution_count": 2,
   "metadata": {
    "scrolled": true
   },
   "outputs": [
    {
     "name": "stdout",
     "output_type": "stream",
     "text": [
      "2.0.0\n"
     ]
    }
   ],
   "source": [
    "print(tf.__version__)"
   ]
  },
  {
   "cell_type": "code",
   "execution_count": 3,
   "metadata": {},
   "outputs": [
    {
     "name": "stdout",
     "output_type": "stream",
     "text": [
      "['D:\\\\Users\\\\ddjsj\\\\Anaconda3\\\\lib\\\\site-packages\\\\tensorflow']\n"
     ]
    }
   ],
   "source": [
    "print(tf.__path__)"
   ]
  },
  {
   "cell_type": "code",
   "execution_count": 4,
   "metadata": {},
   "outputs": [
    {
     "name": "stdout",
     "output_type": "stream",
     "text": [
      " 驱动器 C 中的卷没有标签。\n",
      " 卷的序列号是 887C-D3D4\n",
      "\n",
      " C:\\Users\\ddjsj 的目录\n",
      "\n",
      "2019/10/20  11:38    <DIR>          .\n",
      "2019/10/20  11:38    <DIR>          ..\n",
      "2019/04/17  07:58    <DIR>          .android\n",
      "2019/10/20  07:53    <DIR>          .conda\n",
      "2019/10/20  08:17                42 .condarc\n",
      "2018/09/06  17:36    <DIR>          .eclipse\n",
      "2019/10/20  11:14    <DIR>          .ipynb_checkpoints\n",
      "2019/10/20  08:01    <DIR>          .ipython\n",
      "2019/10/20  09:57    <DIR>          .jupyter\n",
      "2019/10/20  08:41    <DIR>          .keras\n",
      "2019/10/20  08:33    <DIR>          .matplotlib\n",
      "2019/03/28  19:27    <DIR>          .p2\n",
      "2019/03/26  17:50            36,108 .pdfbox.cache\n",
      "2019/08/25  09:48    <DIR>          .PyCharm2019.1\n",
      "2018/09/06  17:01    <DIR>          .PyCharmCE2018.2\n",
      "2018/09/06  17:36    <DIR>          .tooling\n",
      "2019/10/20  07:58    <DIR>          Anaconda3\n",
      "2018/07/23  10:12    <DIR>          AppData\n",
      "2018/07/23  10:13    <DIR>          Contacts\n",
      "2019/10/20  10:33    <DIR>          Desktop\n",
      "2019/10/20  07:48    <DIR>          Documents\n",
      "2019/06/19  14:54    <DIR>          Downloads\n",
      "2018/09/06  17:08    <DIR>          eclipse\n",
      "2018/09/06  17:36    <DIR>          eclipse-workspace\n",
      "2018/07/23  10:13    <DIR>          Favorites\n",
      "2018/07/23  10:13    <DIR>          Links\n",
      "2019/10/20  11:14           275,257 mnist2.ipynb\n",
      "2019/10/20  11:38            33,136 mnist3.ipynb\n",
      "2019/10/20  11:01            17,297 mnist手写数字识别.ipynb\n",
      "2018/07/23  10:13    <DIR>          Music\n",
      "2019/10/20  08:11    <DIR>          OneDrive\n",
      "2019/03/26  18:15    <DIR>          Pictures\n",
      "2018/07/23  10:13    <DIR>          Saved Games\n",
      "2018/07/23  10:14    <DIR>          Searches\n",
      "2019/10/20  10:35             2,920 Untitled.ipynb\n",
      "2018/07/23  10:13    <DIR>          Videos\n",
      "               6 个文件        364,760 字节\n",
      "              30 个目录 115,739,754,496 可用字节\n"
     ]
    }
   ],
   "source": [
    "!dir"
   ]
  },
  {
   "cell_type": "code",
   "execution_count": 5,
   "metadata": {},
   "outputs": [],
   "source": [
    "tf.keras.backend.set_floatx('float64')"
   ]
  },
  {
   "cell_type": "markdown",
   "metadata": {},
   "source": [
    "# Jupyter notebook"
   ]
  },
  {
   "cell_type": "markdown",
   "metadata": {},
   "source": [
    "两种模式：\n",
    "* 命令模式\n",
    "   - r (raw) 原始文本\n",
    "   - y (code) 代码 \n",
    "   - m (mark down ) 格式化文本\n",
    "   - a (above) 在当前cell的上方创建并插入一个cell\n",
    "   - b (below) 下方\n",
    "   - 1~6 不同级别的标题\n",
    "* 编辑模式\n",
    "    - Ctrl + /\n",
    "    - Ctrl + Enter\n",
    "    - Shift Enter|"
   ]
  },
  {
   "cell_type": "code",
   "execution_count": 6,
   "metadata": {},
   "outputs": [],
   "source": [
    "os.environ['TF_CPP_MIN_LOG_LEVEL'] = '2'"
   ]
  },
  {
   "cell_type": "markdown",
   "metadata": {},
   "source": [
    "# mnist数据集"
   ]
  },
  {
   "cell_type": "code",
   "execution_count": 7,
   "metadata": {},
   "outputs": [],
   "source": [
    "import numpy as np\n",
    "from tensorflow import keras\n",
    "from tensorflow.keras import datasets, optimizers, layers"
   ]
  },
  {
   "cell_type": "code",
   "execution_count": 8,
   "metadata": {},
   "outputs": [],
   "source": [
    "import matplotlib.pyplot as plt\n",
    "%matplotlib inline"
   ]
  },
  {
   "cell_type": "markdown",
   "metadata": {},
   "source": [
    "### 读入mnist数据集"
   ]
  },
  {
   "cell_type": "code",
   "execution_count": 9,
   "metadata": {},
   "outputs": [],
   "source": [
    "mnist = datasets.mnist"
   ]
  },
  {
   "cell_type": "code",
   "execution_count": 10,
   "metadata": {},
   "outputs": [],
   "source": [
    "(train_images, train_labels), (test_images, test_labels) = mnist.load_data()"
   ]
  },
  {
   "cell_type": "code",
   "execution_count": 11,
   "metadata": {},
   "outputs": [
    {
     "data": {
      "text/plain": [
       "numpy.ndarray"
      ]
     },
     "execution_count": 11,
     "metadata": {},
     "output_type": "execute_result"
    }
   ],
   "source": [
    "type(train_images)"
   ]
  },
  {
   "cell_type": "code",
   "execution_count": 12,
   "metadata": {},
   "outputs": [
    {
     "data": {
      "text/plain": [
       "numpy.ndarray"
      ]
     },
     "execution_count": 12,
     "metadata": {},
     "output_type": "execute_result"
    }
   ],
   "source": [
    "type(train_labels)"
   ]
  },
  {
   "cell_type": "code",
   "execution_count": 13,
   "metadata": {},
   "outputs": [],
   "source": [
    "N_TRAINL, IMG_HEIGHT, IMG_WIDTH = train_images.shape"
   ]
  },
  {
   "cell_type": "code",
   "execution_count": 14,
   "metadata": {},
   "outputs": [
    {
     "name": "stdout",
     "output_type": "stream",
     "text": [
      "3\n"
     ]
    },
    {
     "data": {
      "image/png": "[encoded data removed]",
      "text/plain": [
       "<Figure size 432x288 with 1 Axes>"
      ]
     },
     "metadata": {
      "needs_background": "light"
     },
     "output_type": "display_data"
    }
   ],
   "source": [
    "PIC = 10\n",
    "plt.imshow(train_images[PIC], cmap = 'gray')\n",
    "print(train_labels[PIC])"
   ]
  },
  {
   "cell_type": "code",
   "execution_count": 15,
   "metadata": {},
   "outputs": [
    {
     "data": {
      "text/plain": [
       "(10000, 28, 28)"
      ]
     },
     "execution_count": 15,
     "metadata": {},
     "output_type": "execute_result"
    }
   ],
   "source": [
    "test_images.shape\n",
    "# 784 = 28*28"
   ]
  },
  {
   "cell_type": "code",
   "execution_count": 16,
   "metadata": {},
   "outputs": [],
   "source": [
    "train_images = train_images/255.\n",
    "test_images = test_images/255.\n",
    "train_labels = tf.cast(train_labels, tf.float64)\n",
    "test_labels = tf.cast(test_labels, tf.float64)"
   ]
  },
  {
   "cell_type": "code",
   "execution_count": 17,
   "metadata": {
    "scrolled": true
   },
   "outputs": [
    {
     "data": {
      "text/plain": [
       "TensorShape([60000])"
      ]
     },
     "execution_count": 17,
     "metadata": {},
     "output_type": "execute_result"
    }
   ],
   "source": [
    "train_labels.shape"
   ]
  },
  {
   "cell_type": "raw",
   "metadata": {},
   "source": [
    "稠密编码（结构不好，省空间，强制偏序关系）：0、1、2、3、\n",
    "稀疏编码(结构，浪费空间，无偏序关系,硬编码的概率分布)labels：[1, 0, 0, ...,0 ] [0, 1, 0, ...,0]"
   ]
  },
  {
   "cell_type": "code",
   "execution_count": 18,
   "metadata": {},
   "outputs": [],
   "source": [
    "N_DATA = 20000\n",
    "N_BATCH = 16\n",
    "# 按batch，构建训练数据集\\\n",
    "def mnist_dataset(x, y):\n",
    "    ds = tf.data.Dataset.from_tensor_slices((x,y)).take(N_DATA).shuffle(N_DATA).batch(N_BATCH)\n",
    "    return ds"
   ]
  },
  {
   "cell_type": "code",
   "execution_count": 19,
   "metadata": {},
   "outputs": [],
   "source": [
    "ds = mnist_dataset(train_images, train_labels)"
   ]
  },
  {
   "cell_type": "markdown",
   "metadata": {},
   "source": [
    "### 构建神经网络"
   ]
  },
  {
   "cell_type": "code",
   "execution_count": 20,
   "metadata": {},
   "outputs": [],
   "source": [
    "# 输入图片 --》 layer （加法操作+非线性操作）-》 layer （加法操作+非线性操作） ——》  。。。——> logits[0.7, 0.01, 0.08,....], SIGMA=1"
   ]
  },
  {
   "cell_type": "code",
   "execution_count": 21,
   "metadata": {},
   "outputs": [],
   "source": [
    "# 构建神经元网络的拓扑结构\n",
    "\n",
    "NEURONS_L1 = 128\n",
    "NEURONS_L2 = 32\n",
    "NEURONS_L3 = 10\n",
    "\n",
    "# relu(x) = max(0, x)\n",
    "\n",
    "model = keras.Sequential([\n",
    "    layers.Reshape(target_shape = (IMG_HEIGHT * IMG_WIDTH, ), input_shape = (28,28)),\n",
    "    layers.Dense(NEURONS_L1, activation = 'relu'),\n",
    "    layers.Dense(NEURONS_L2, activation = 'relu'),\n",
    "    layers.Dense(NEURONS_L3, activation = 'softmax')\n",
    "])"
   ]
  },
  {
   "cell_type": "markdown",
   "metadata": {},
   "source": [
    "### 选择损失函数loss"
   ]
  },
  {
   "cell_type": "raw",
   "metadata": {},
   "source": [
    "# 交叉熵（机器有好）\n",
    "labels（分布）与logits（softmax分布）之间的损失\n",
    "\n",
    "# images(given) --> NN(weights)(superparameters) --> logits(calculating)   -- loss(logits, labels)\n",
    "# labels(given)                                         /"
   ]
  },
  {
   "cell_type": "code",
   "execution_count": 22,
   "metadata": {},
   "outputs": [],
   "source": [
    "# 归一化的损失函数|\n",
    "@tf.function\n",
    "def compute_loss(logits, labels):\n",
    "#     assert logits.shape == (N_BATCH, NEURONS_L3)\n",
    "#     assert labels.shape == (N_BATCH,)\n",
    "    return tf.reduce_mean(tf.losses.sparse_categorical_crossentropy(labels, logits))"
   ]
  },
  {
   "cell_type": "markdown",
   "metadata": {},
   "source": [
    "### 计算评估用的精度acc"
   ]
  },
  {
   "cell_type": "code",
   "execution_count": 23,
   "metadata": {},
   "outputs": [],
   "source": [
    "# 评估模型的好坏（在训练集、验证集和测试集上的表现）\n",
    "# 精度（人类定义）\n",
    "\n",
    "\n",
    "# logits.shape == (N_BATCH, NEURONS_L3)\n",
    "# labels.shape == (N_BATCH, )\n",
    "@tf.function\n",
    "def compute_accuracy(logits, labels):\n",
    "#     assert logits.shape == (N_BATCH, NEURONS_L3)\n",
    "#     assert labels.shape == (N_BATCH,)\n",
    "    predictions = tf.argmax(logits, axis = 1)   # prediciton.shape == (N_BATCH, )\n",
    "#     assert predictions.shape == labels.shape\n",
    "    return tf.reduce_mean(tf.cast(tf.equal(predictions, tf.cast(labels, tf.int64)), tf.float64))"
   ]
  },
  {
   "cell_type": "markdown",
   "metadata": {},
   "source": [
    "### 选择最优化方法"
   ]
  },
  {
   "cell_type": "code",
   "execution_count": 24,
   "metadata": {},
   "outputs": [],
   "source": [
    "# 数值最优化方法\n",
    "# 梯度下降、牛顿法\n",
    "\n",
    "# 调整权值weights\n",
    "optimizer = optimizers.Adam(learning_rate = 0.001)"
   ]
  },
  {
   "cell_type": "markdown",
   "metadata": {},
   "source": [
    "### 训练和评估"
   ]
  },
  {
   "cell_type": "code",
   "execution_count": 25,
   "metadata": {},
   "outputs": [
    {
     "name": "stdout",
     "output_type": "stream",
     "text": [
      "epoch0 stepTensor(\"args_2:0\", shape=(), dtype=int64), lossTensor(\"StatefulPartitionedCall:0\", shape=(), dtype=float64), accuracyTensor(\"StatefulPartitionedCall:1\", shape=(), dtype=float64)\n",
      "Final epoch 0, loss 0.032269189818014785, accuracy 1.0\n"
     ]
    }
   ],
   "source": [
    "# 1.0 session\n",
    "\n",
    "# 一个step/batch\n",
    "@tf.function\n",
    "def train_one_step(model, optimizer, x, y):\n",
    "    # 获得梯度\n",
    "    with tf.GradientTape( ) as tape:\n",
    "        logits = model(x)\n",
    "        loss = compute_loss(logits, y)\n",
    "        \n",
    "    # 计算梯度  \n",
    "    grads = tape.gradient(loss, model.trainable_variables)\n",
    "    \n",
    "    # 更新参数 w <- w - grads * learning_rate\n",
    "    optimizer.apply_gradients(zip(grads, model.trainable_variables))\n",
    "    \n",
    "    accuracy = compute_accuracy(logits, y)\n",
    "    \n",
    "    return loss, accuracy\n",
    "\n",
    "# 一个epoch （整个训练集遍历了一遍）\n",
    "@tf.function\n",
    "def train(epoch, model, optimizer, train_images, train_labels):\n",
    "    \n",
    "    # 获取批数据\n",
    "    train_ds = mnist_dataset(train_images, train_labels)\n",
    "\n",
    "    loss = 0.\n",
    "    loss = tf.cast(loss, tf.float64)\n",
    "    accuracy = 0.\n",
    "    accuracy = tf.cast(accuracy, tf.float64)\n",
    "    \n",
    "    for step, (x, y) in enumerate(train_ds):\n",
    "        loss, accuracy = train_one_step(model, optimizer, x, y)\n",
    "        \n",
    "        if step % 100 == 0:\n",
    "            print(f'epoch{epoch} step{step}, loss{loss}, accuracy{accuracy}')\n",
    "            \n",
    "    return loss, accuracy\n",
    "\n",
    "# 遍历多次\n",
    "N_EPOCHES = 1\n",
    "for epoch in range(N_EPOCHES):\n",
    "    loss, accuracy = train(epoch, model, optimizer, train_images, train_labels)\n",
    "    print(f\"Final epoch {epoch}, loss {loss}, accuracy {accuracy}\") # f = format"
   ]
  },
  {
   "cell_type": "code",
   "execution_count": null,
   "metadata": {},
   "outputs": [],
   "source": []
  },
  {
   "cell_type": "code",
   "execution_count": null,
   "metadata": {},
   "outputs": [],
   "source": []
  },
  {
   "cell_type": "code",
   "execution_count": null,
   "metadata": {},
   "outputs": [],
   "source": []
  },
  {
   "cell_type": "code",
   "execution_count": null,
   "metadata": {},
   "outputs": [],
   "source": []
  }
 ],
 "metadata": {
  "kernelspec": {
   "display_name": "Python 3",
   "language": "python",
   "name": "python3"
  },
  "language_info": {
   "codemirror_mode": {
    "name": "ipython",
    "version": 3
   },
   "file_extension": ".py",
   "mimetype": "text/x-python",
   "name": "python",
   "nbconvert_exporter": "python",
   "pygments_lexer": "ipython3",
   "version": "3.7.4"
  }
 },
 "nbformat": 4,
 "nbformat_minor": 2
}
